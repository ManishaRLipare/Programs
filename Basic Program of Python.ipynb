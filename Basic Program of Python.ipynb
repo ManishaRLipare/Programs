{
 "cells": [
  {
   "cell_type": "markdown",
   "id": "7f73a570",
   "metadata": {},
   "source": [
    "###  WAPP to find maximum between 3 numbers"
   ]
  },
  {
   "cell_type": "code",
   "execution_count": 4,
   "id": "c510814a",
   "metadata": {},
   "outputs": [
    {
     "name": "stdout",
     "output_type": "stream",
     "text": [
      "Enter a first number:10\n",
      "Enter a second number:30\n",
      "Enter a third number:20\n",
      "The number 30 is greater than 10 and 20\n"
     ]
    }
   ],
   "source": [
    "n1 = int(input('Enter a first number:'))\n",
    "n2 = int(input('Enter a second number:'))\n",
    "n3 = int(input('Enter a third number:'))\n",
    "if n1>n2 and n1>n3:\n",
    "    print('The number',n1,'is greater than',n2,'and',n3)\n",
    "elif n2>n3:\n",
    "    print('The number',n2,'is greater than',n1,'and',n3)\n",
    "else:\n",
    "    print('The number',n3,'is greater than',n2,'and',n1)\n",
    "    \n",
    "    "
   ]
  },
  {
   "cell_type": "markdown",
   "id": "82779ca5",
   "metadata": {},
   "source": [
    "### WAPP to find maximum between 2 numbers"
   ]
  },
  {
   "cell_type": "code",
   "execution_count": 7,
   "id": "fdd306ef",
   "metadata": {},
   "outputs": [
    {
     "name": "stdout",
     "output_type": "stream",
     "text": [
      "Enter a first number:100\n",
      "Enter a second number:200\n",
      "The number 200 is greater than 100\n"
     ]
    }
   ],
   "source": [
    "n1 = int(input('Enter a first number:'))\n",
    "n2 = int(input('Enter a second number:'))\n",
    "if n1>n2:\n",
    "    print('The number',n1,'is greater than',n2)\n",
    "else:\n",
    "    print('The number',n2,'is greater than',n1)"
   ]
  },
  {
   "cell_type": "markdown",
   "id": "82d739f5",
   "metadata": {},
   "source": [
    "### WAPP to check wheather a number is +ve or -ve"
   ]
  },
  {
   "cell_type": "code",
   "execution_count": 14,
   "id": "96850e0d",
   "metadata": {},
   "outputs": [
    {
     "name": "stdout",
     "output_type": "stream",
     "text": [
      "Enter a number:0\n",
      "Entered number is zero 0\n"
     ]
    }
   ],
   "source": [
    "n = int(input('Enter a number:'))\n",
    "if n>0:\n",
    "    print(n,'is positive number')\n",
    "elif n<0:\n",
    "    print(n,'is negative number')\n",
    "else:    \n",
    "    print('Entered number is zero',n)"
   ]
  },
  {
   "cell_type": "markdown",
   "id": "c4b8925f",
   "metadata": {},
   "source": [
    "###  WAPP to check wheather number is divisible by 5 or not"
   ]
  },
  {
   "cell_type": "code",
   "execution_count": 16,
   "id": "70f37b64",
   "metadata": {},
   "outputs": [
    {
     "name": "stdout",
     "output_type": "stream",
     "text": [
      "Enter a number:2\n",
      "2 is not divisible by 5\n"
     ]
    }
   ],
   "source": [
    "n = int(input('Enter a number:'))\n",
    "if n % 5 == 0:\n",
    "    print(n,'is divisible by 5')\n",
    "else:\n",
    "    print(n,'is not divisible by 5')\n",
    "    "
   ]
  },
  {
   "cell_type": "markdown",
   "id": "7891d66f",
   "metadata": {},
   "source": [
    "### WAPP to check wheather a number is even or odd"
   ]
  },
  {
   "cell_type": "code",
   "execution_count": 18,
   "id": "58b95703",
   "metadata": {},
   "outputs": [
    {
     "name": "stdout",
     "output_type": "stream",
     "text": [
      "Enter a number:11\n",
      "11 is odd number\n"
     ]
    }
   ],
   "source": [
    "n = int(input('Enter a number:'))\n",
    "if n % 2 == 0:\n",
    "    print(n,'is even number')\n",
    "else:\n",
    "    print(n,'is odd number')"
   ]
  },
  {
   "cell_type": "markdown",
   "id": "4ddf49c9",
   "metadata": {},
   "source": [
    "###  WAPP to check wheather a year is leap year or not"
   ]
  },
  {
   "cell_type": "code",
   "execution_count": 22,
   "id": "36f8315e",
   "metadata": {},
   "outputs": [
    {
     "name": "stdout",
     "output_type": "stream",
     "text": [
      "Enter a year1850\n",
      "1850 is not a leap year\n"
     ]
    }
   ],
   "source": [
    "n = int(input('Enter a year'))\n",
    "if n % 4 == 0:\n",
    "    print(n,'is a leap year')\n",
    "else:\n",
    "    print(n,'is not a leap year')"
   ]
  },
  {
   "cell_type": "markdown",
   "id": "ad6a6e2c",
   "metadata": {},
   "source": [
    "### WAPP to check wheather character is alphabet or not"
   ]
  },
  {
   "cell_type": "code",
   "execution_count": 27,
   "id": "686fb00d",
   "metadata": {},
   "outputs": [
    {
     "name": "stdout",
     "output_type": "stream",
     "text": [
      "Enter a character:1\n",
      "1 is not a alphabet\n"
     ]
    }
   ],
   "source": [
    "a = input('Enter a character:')\n",
    "if len(a) == 1:\n",
    "    if a.isalpha():\n",
    "        print(a,'is a alphabet')\n",
    "    else:  \n",
    "        print(a,'is not a alphabet')\n",
    "else:print('Please enter a valid alphabet')        "
   ]
  },
  {
   "cell_type": "markdown",
   "id": "26780ebb",
   "metadata": {},
   "source": [
    "###  WAPP to check wheather character is vowels or consonent"
   ]
  },
  {
   "cell_type": "code",
   "execution_count": 10,
   "id": "037311b7",
   "metadata": {},
   "outputs": [
    {
     "name": "stdout",
     "output_type": "stream",
     "text": [
      "Enter a character:m\n",
      "m is consonent\n"
     ]
    }
   ],
   "source": [
    "n = input('Enter a character:')\n",
    "if len(n) == 1:\n",
    "    if n.isalpha():\n",
    "        if n in 'aieouAIEOU':\n",
    "            print(n,'is vowels')\n",
    "        else:\n",
    "            print(n,'is consonent')\n",
    "    else:       \n",
    "        print('Entered value is not a character')\n",
    "else:                \n",
    "    print('Enter a valid single alphabet')\n",
    "    "
   ]
  },
  {
   "cell_type": "markdown",
   "id": "43d742e7",
   "metadata": {},
   "source": [
    "### WAPP to enter any alphabet and check wheather it is in upper case or lower case"
   ]
  },
  {
   "cell_type": "code",
   "execution_count": 15,
   "id": "89f41ec3",
   "metadata": {},
   "outputs": [
    {
     "name": "stdout",
     "output_type": "stream",
     "text": [
      "Enter a character: M\n",
      "M is in a upper case\n"
     ]
    }
   ],
   "source": [
    "a = input('Enter a character: ')\n",
    "if len(a) == 1:\n",
    "    if a.isalpha():\n",
    "        if a.isupper():\n",
    "            print(a,'is in a upper case')\n",
    "        else:\n",
    "            print(a,'is in a lower case')\n",
    "    else:\n",
    "        print('Entered value is not a character')\n",
    "else:\n",
    "    print('Enter a valid single alphabet')\n",
    "        "
   ]
  },
  {
   "cell_type": "markdown",
   "id": "4f6a2a79",
   "metadata": {},
   "source": [
    "### WAPP to count total currency note in given amount"
   ]
  },
  {
   "cell_type": "code",
   "execution_count": 25,
   "id": "84c9121d",
   "metadata": {},
   "outputs": [
    {
     "name": "stdout",
     "output_type": "stream",
     "text": [
      "Enter a amount which is multiple of 100,500,20002000\n",
      "Enter available notes500\n",
      "You have %d notes 4.0\n"
     ]
    }
   ],
   "source": [
    "avlnotes=[100,500,2000]\n",
    "amount= int(input('Enter a amount which is multiple of 100,500,2000'))\n",
    "notes = int(input('Enter available notes'))\n",
    "if notes in avlnotes:\n",
    "    if notes == 100 and amount % notes == 0:\n",
    "        n = amount/notes\n",
    "        print('You have %d notes',n)\n",
    "    elif notes == 500 and amount % notes == 0:\n",
    "        n = amount / notes\n",
    "        print('You have %d notes',n)\n",
    "    elif notes == 2000 and amount % notes == 0:\n",
    "        n = amount / notes\n",
    "        print('You have %d notes',n)\n",
    "    else:\n",
    "        print('Please enter right details')\n"
   ]
  },
  {
   "cell_type": "markdown",
   "id": "bf827724",
   "metadata": {},
   "source": [
    "###  WAP to input angles and check the triangle is valid or not"
   ]
  },
  {
   "cell_type": "code",
   "execution_count": 27,
   "id": "5f00b9d0",
   "metadata": {},
   "outputs": [
    {
     "name": "stdout",
     "output_type": "stream",
     "text": [
      "Enter 1st angle10\n",
      "Enter 2nd angle200\n",
      "Enter 3rd angle40\n",
      "Triangle is not valid\n"
     ]
    }
   ],
   "source": [
    "a = int(input('Enter 1st angle'))\n",
    "b = int(input('Enter 2nd angle'))\n",
    "c = int(input('Enter 3rd angle'))\n",
    "if a+b+c == 180:\n",
    "    print('Triangle is valid')\n",
    "else:\n",
    "    print('Triangle is not valid')\n",
    "    "
   ]
  },
  {
   "cell_type": "markdown",
   "id": "c2d1cd85",
   "metadata": {},
   "source": [
    "###  WAPP to input angles and check the triangle Equilateral, Isosceles, Scalene"
   ]
  },
  {
   "cell_type": "code",
   "execution_count": 28,
   "id": "499399ff",
   "metadata": {},
   "outputs": [
    {
     "name": "stdout",
     "output_type": "stream",
     "text": [
      "Enter 1st angle60\n",
      "Enter 2nd angle60\n",
      "Enter 3rd angle60\n",
      "Triangle is Equilateral Triangle\n"
     ]
    }
   ],
   "source": [
    "a = int(input('Enter 1st angle'))\n",
    "b = int(input('Enter 2nd angle'))\n",
    "c = int(input('Enter 3rd angle'))\n",
    "if a==b==c:\n",
    "    print('Triangle is Equilateral Triangle')\n",
    "elif a==b and a!=c and b!=c:\n",
    "    print('Triangle is Isosceles Triangle')\n",
    "elif a!=b and a!=c and b!=c:\n",
    "    print('Triangle is Scalene Triangle')\n",
    "else:\n",
    "    print('Not a valid triangle')\n",
    "    "
   ]
  },
  {
   "cell_type": "markdown",
   "id": "7d2ef5c8",
   "metadata": {},
   "source": [
    "### WAPP to calculate profit and loss on the basis of selling price and actual price"
   ]
  },
  {
   "cell_type": "code",
   "execution_count": 32,
   "id": "a723c8f0",
   "metadata": {},
   "outputs": [
    {
     "name": "stdout",
     "output_type": "stream",
     "text": [
      "Enter a selling price120\n",
      "Enter a actual price100\n",
      "Profit is: 20\n"
     ]
    }
   ],
   "source": [
    "SP = int(input('Enter a selling price'))\n",
    "AP = int(input('Enter a actual price'))\n",
    "if SP>AP:\n",
    "    profit = SP - AP\n",
    "    print('Profit is:',profit)\n",
    "elif AP>SP:\n",
    "    loss = AP - SP\n",
    "    print('Loss is',loss)\n",
    "else:\n",
    "    print('No profit no loss')"
   ]
  },
  {
   "cell_type": "markdown",
   "id": "0fbbcc8a",
   "metadata": {},
   "source": [
    "### WAP to print every character of a string entered by the user in a new line using a loop"
   ]
  },
  {
   "cell_type": "code",
   "execution_count": 1,
   "id": "5adafd04",
   "metadata": {},
   "outputs": [
    {
     "name": "stdout",
     "output_type": "stream",
     "text": [
      "Enter a string:manisha lipare\n",
      "m\n",
      "a\n",
      "n\n",
      "i\n",
      "s\n",
      "h\n",
      "a\n",
      " \n",
      "l\n",
      "i\n",
      "p\n",
      "a\n",
      "r\n",
      "e\n"
     ]
    }
   ],
   "source": [
    "s = input('Enter a string:')\n",
    "for i in s:\n",
    "    print(i)"
   ]
  },
  {
   "cell_type": "markdown",
   "id": "3beea5aa",
   "metadata": {},
   "source": [
    "### WAP to find the length of the string with and without using len function"
   ]
  },
  {
   "cell_type": "code",
   "execution_count": 29,
   "id": "1c155c35",
   "metadata": {},
   "outputs": [
    {
     "name": "stdout",
     "output_type": "stream",
     "text": [
      "Enter a string:machine learning\n",
      "16\n",
      "The length of the string is 16\n"
     ]
    }
   ],
   "source": [
    "s = input('Enter a string:')\n",
    "print(len(s))\n",
    "c = 0\n",
    "for i in s:\n",
    "    c+= 1\n",
    "print('The length of the string is',c)    "
   ]
  },
  {
   "cell_type": "markdown",
   "id": "79d1a1dd",
   "metadata": {},
   "source": [
    "### WAP to check if the word 'orange' is present in the string"
   ]
  },
  {
   "cell_type": "code",
   "execution_count": 26,
   "id": "bbec5a42",
   "metadata": {},
   "outputs": [
    {
     "name": "stdout",
     "output_type": "stream",
     "text": [
      "Enter a string:This is orange juice\n",
      "The Orange is not present in a given string\n",
      "The Orange is not present in a given string\n",
      "The Orange is present in a given string\n",
      "The Orange is not present in a given string\n"
     ]
    }
   ],
   "source": [
    "s = input('Enter a string:')\n",
    "l = s.split()\n",
    "for i in l:\n",
    "    if i.lower() == 'orange':\n",
    "        print('The Orange is present in a given string')\n",
    "    else:\n",
    "        print('The Orange is not present in a given string')"
   ]
  },
  {
   "cell_type": "code",
   "execution_count": 28,
   "id": "0f37827f",
   "metadata": {},
   "outputs": [
    {
     "name": "stdout",
     "output_type": "stream",
     "text": [
      "Enter a string:This is Orange juice\n",
      "The Orange is present in a given string Orange\n"
     ]
    }
   ],
   "source": [
    "s = input('Enter a string:')\n",
    "l = s.split()\n",
    "m = ''\n",
    "for i in l:\n",
    "    if i.lower() == 'orange':\n",
    "        m = i\n",
    "        print('The Orange is present in a given string',m)"
   ]
  },
  {
   "cell_type": "code",
   "execution_count": 12,
   "id": "fb9c0a1c",
   "metadata": {},
   "outputs": [
    {
     "name": "stdout",
     "output_type": "stream",
     "text": [
      "Enter a string:manisha lipare\n"
     ]
    }
   ],
   "source": [
    "s = input('Enter a string:')\n",
    "l = s.split()\n",
    "m = ''\n",
    "for i in l:\n",
    "    if i.lower() == 'orange':\n",
    "        m = i\n",
    "        print('The Orange is present in a given string',m)"
   ]
  },
  {
   "cell_type": "markdown",
   "id": "8393bf5c",
   "metadata": {},
   "source": [
    "### WAP to find the number of vowels, consonants, digit and white space characters in a string"
   ]
  },
  {
   "cell_type": "code",
   "execution_count": 21,
   "id": "8af09a5f",
   "metadata": {},
   "outputs": [
    {
     "name": "stdout",
     "output_type": "stream",
     "text": [
      "Enter a string:manisha rakesh lipare 1234567\n",
      "The number of Vowels- 8 consonant- 11 digit- 7 & white space- 3\n"
     ]
    }
   ],
   "source": [
    "s = input('Enter a string:')\n",
    "vowels = ['A','I','E','O','U','a','i','e','o','u']\n",
    "v = 0\n",
    "c = 0\n",
    "d = 0\n",
    "w = 0\n",
    "for i in s:\n",
    "    if i.isdigit():\n",
    "        d+= 1\n",
    "    elif i == ' ':\n",
    "        w+= 1\n",
    "    elif i in vowels:\n",
    "        v = v+1\n",
    "    else:\n",
    "        c+=1  \n",
    "print('The number of Vowels-',v,'consonant-',c,'digit-',d,'& white space-',w)        "
   ]
  },
  {
   "cell_type": "markdown",
   "id": "4d69e30a",
   "metadata": {},
   "source": [
    "### WAP to count Uppercase,lowercase,special character and numeric values in a given string"
   ]
  },
  {
   "cell_type": "code",
   "execution_count": 24,
   "id": "27fde1d6",
   "metadata": {},
   "outputs": [
    {
     "name": "stdout",
     "output_type": "stream",
     "text": [
      "Enter a string:MaNisHa$$LipaRe&&@@1234567\n",
      "The number of numeric value- 7 Uppercase- 5 Lowercase- 8 & Special char- 6\n"
     ]
    }
   ],
   "source": [
    "s = input('Enter a string:')\n",
    "n = 0\n",
    "u = 0\n",
    "l = 0\n",
    "sp = 0\n",
    "\n",
    "for i in s:\n",
    "    if i.isnumeric():\n",
    "        n+= 1\n",
    "    elif i.isupper():\n",
    "        u+=1\n",
    "    elif i.islower():\n",
    "        l+=1\n",
    "    else:\n",
    "        sp+=1\n",
    "        \n",
    "print('The number of numeric value-',n,'Uppercase-',u,'Lowercase-',l,'& Special char-',sp) "
   ]
  },
  {
   "cell_type": "markdown",
   "id": "740f8c9a",
   "metadata": {},
   "source": [
    "### WAP to make a new string with all the consonants deleted from the string"
   ]
  },
  {
   "cell_type": "code",
   "execution_count": 25,
   "id": "bf373d5e",
   "metadata": {},
   "outputs": [
    {
     "name": "stdout",
     "output_type": "stream",
     "text": [
      "Enter a string:'Hello,have a good day'\n",
      "The new string with all the consonants deleted from the string: eoaeaooa\n"
     ]
    }
   ],
   "source": [
    "s = input('Enter a string:')\n",
    "vowels = ['A','I','E','O','U','a','i','e','o','u']\n",
    "m =''\n",
    "for i in s:\n",
    "    if i in vowels:\n",
    "        m = m+i\n",
    "print('The new string with all the consonants deleted from the string:',m)        \n",
    "    "
   ]
  },
  {
   "cell_type": "markdown",
   "id": "e2d552ad",
   "metadata": {},
   "source": [
    "### "
   ]
  }
 ],
 "metadata": {
  "kernelspec": {
   "display_name": "Python 3 (ipykernel)",
   "language": "python",
   "name": "python3"
  },
  "language_info": {
   "codemirror_mode": {
    "name": "ipython",
    "version": 3
   },
   "file_extension": ".py",
   "mimetype": "text/x-python",
   "name": "python",
   "nbconvert_exporter": "python",
   "pygments_lexer": "ipython3",
   "version": "3.9.12"
  }
 },
 "nbformat": 4,
 "nbformat_minor": 5
}
